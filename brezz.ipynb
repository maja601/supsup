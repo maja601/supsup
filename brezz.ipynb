{
 "cells": [
  {
   "cell_type": "code",
   "execution_count": 82,
   "metadata": {},
   "outputs": [],
   "source": [
    "import numpy as np\n",
    "from breizhcrops import BreizhCrops\n",
    "import pandas as pd\n",
    "import geopandas as gpd\n",
    "import contextily as ctx\n",
    "\n",
    "import torch\n",
    "import torch.optim as optim\n",
    "import torch.nn as nn\n",
    "import torch.autograd as autograd\n",
    "import torch.nn.functional as F\n",
    "from torch.utils.data import DataLoader,Dataset\n",
    "\n",
    "import torchvision\n",
    "import numpy as np\n",
    "import math\n",
    "\n",
    "from tqdm.notebook import tqdm"
   ]
  },
  {
   "cell_type": "code",
   "execution_count": 46,
   "metadata": {},
   "outputs": [
    {
     "name": "stderr",
     "output_type": "stream",
     "text": [
      "frh01.csv: 13.4MB [00:00, 41.8MB/s]                            \n",
      "frh01.h5.tar.gz:   0%|          | 2.15M/1.64G [00:00<01:16, 21.5MB/s]"
     ]
    },
    {
     "name": "stdout",
     "output_type": "stream",
     "text": [
      "downloading breizhcrops_dataset/2017/L1C/frh01.h5.tar.gz\n"
     ]
    },
    {
     "name": "stderr",
     "output_type": "stream",
     "text": [
      "frh01.h5.tar.gz: 1.64GB [00:17, 91.8MB/s]                            \n"
     ]
    },
    {
     "name": "stdout",
     "output_type": "stream",
     "text": [
      "extracting breizhcrops_dataset/2017/L1C/frh01.h5.tar.gz to breizhcrops_dataset/2017/L1C/frh01.h5\n",
      "removing breizhcrops_dataset/2017/L1C/frh01.h5.tar.gz\n",
      "checking integrity by file size...\n",
      "ok!\n"
     ]
    },
    {
     "name": "stderr",
     "output_type": "stream",
     "text": [
      "frh02.csv: 11.2MB [00:00, 48.7MB/s]                            \n",
      "frh02.h5.tar.gz:   0%|          | 4.81M/1.45G [00:00<00:30, 48.0MB/s]"
     ]
    },
    {
     "name": "stdout",
     "output_type": "stream",
     "text": [
      "downloading breizhcrops_dataset/2017/L1C/frh02.h5.tar.gz\n"
     ]
    },
    {
     "name": "stderr",
     "output_type": "stream",
     "text": [
      "frh02.h5.tar.gz: 1.45GB [00:16, 88.8MB/s]                            \n"
     ]
    },
    {
     "name": "stdout",
     "output_type": "stream",
     "text": [
      "extracting breizhcrops_dataset/2017/L1C/frh02.h5.tar.gz to breizhcrops_dataset/2017/L1C/frh02.h5\n",
      "removing breizhcrops_dataset/2017/L1C/frh02.h5.tar.gz\n",
      "checking integrity by file size...\n",
      "ok!\n"
     ]
    },
    {
     "name": "stderr",
     "output_type": "stream",
     "text": [
      "frh03.csv: 12.6MB [00:00, 41.5MB/s]                            \n",
      "frh03.h5.tar.gz:   0%|          | 1.69M/1.60G [00:00<01:34, 16.9MB/s]"
     ]
    },
    {
     "name": "stdout",
     "output_type": "stream",
     "text": [
      "downloading breizhcrops_dataset/2017/L1C/frh03.h5.tar.gz\n"
     ]
    },
    {
     "name": "stderr",
     "output_type": "stream",
     "text": [
      "frh03.h5.tar.gz: 1.60GB [00:17, 91.2MB/s]                            \n"
     ]
    },
    {
     "name": "stdout",
     "output_type": "stream",
     "text": [
      "extracting breizhcrops_dataset/2017/L1C/frh03.h5.tar.gz to breizhcrops_dataset/2017/L1C/frh03.h5\n",
      "removing breizhcrops_dataset/2017/L1C/frh03.h5.tar.gz\n",
      "checking integrity by file size...\n",
      "ok!\n"
     ]
    }
   ],
   "source": [
    "frh01 = BreizhCrops(region=\"frh01\")\n",
    "frh02 = BreizhCrops(region=\"frh02\")\n",
    "frh03 = BreizhCrops(region=\"frh03\")\n",
    "frh04 = BreizhCrops(region=\"frh04\")"
   ]
  },
  {
   "cell_type": "code",
   "execution_count": 75,
   "metadata": {},
   "outputs": [],
   "source": [
    "element_idx = np.arange(0, len(frh01))"
   ]
  },
  {
   "cell_type": "code",
   "execution_count": 76,
   "metadata": {},
   "outputs": [],
   "source": [
    "np.random.seed(0)"
   ]
  },
  {
   "cell_type": "code",
   "execution_count": 77,
   "metadata": {},
   "outputs": [],
   "source": [
    "train_len = int(0.7*len(element_idx))\n",
    "val_len = int(0.15*len(element_idx))\n",
    "test_len = int(0.15*len(element_idx))"
   ]
  },
  {
   "cell_type": "code",
   "execution_count": 78,
   "metadata": {},
   "outputs": [],
   "source": [
    "np.random.shuffle(element_idx)"
   ]
  },
  {
   "cell_type": "code",
   "execution_count": 79,
   "metadata": {},
   "outputs": [],
   "source": [
    "train_idx = element_idx[:train_len]\n",
    "val_idx = element_idx[train_len:train_len+val_len]\n",
    "test_idx = element_idx[train_len+val_len:]"
   ]
  },
  {
   "cell_type": "code",
   "execution_count": 90,
   "metadata": {},
   "outputs": [],
   "source": [
    "class Brezz(Dataset):\n",
    "    def __init__(self, brez_data, idxs, transform=None):\n",
    "        self.brez_data = brez_data\n",
    "        self.idxs = idxs\n",
    "        self.transform = transform\n",
    "\n",
    "    def __len__(self):\n",
    "        return len(self.idxs)\n",
    "\n",
    "    def __getitem__(self, idx):\n",
    "        if torch.is_tensor(idx):\n",
    "            idx = idx.tolist()\n",
    "\n",
    "        return self.brez_data[self.idxs[idx]]"
   ]
  },
  {
   "cell_type": "code",
   "execution_count": 91,
   "metadata": {},
   "outputs": [],
   "source": [
    "train = Brezz(brez_data=frh01, idxs=train_idx)\n",
    "val = Brezz(brez_data=frh01, idxs=val_idx)\n",
    "test = Brezz(brez_data=frh01, idxs=test_idx)"
   ]
  },
  {
   "cell_type": "code",
   "execution_count": null,
   "metadata": {},
   "outputs": [],
   "source": []
  }
 ],
 "metadata": {
  "kernelspec": {
   "display_name": "Python 3",
   "language": "python",
   "name": "python3"
  },
  "language_info": {
   "codemirror_mode": {
    "name": "ipython",
    "version": 3
   },
   "file_extension": ".py",
   "mimetype": "text/x-python",
   "name": "python",
   "nbconvert_exporter": "python",
   "pygments_lexer": "ipython3",
   "version": "3.8.3"
  }
 },
 "nbformat": 4,
 "nbformat_minor": 4
}
